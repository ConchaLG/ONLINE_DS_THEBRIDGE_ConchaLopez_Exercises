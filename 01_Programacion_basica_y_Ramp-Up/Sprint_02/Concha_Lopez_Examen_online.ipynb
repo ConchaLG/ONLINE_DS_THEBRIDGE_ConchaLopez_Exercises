{
 "cells": [
  {
   "cell_type": "markdown",
   "id": "1f1401c1-4dc9-4902-95bf-160715a42a25",
   "metadata": {},
   "source": [
    "# Prueba de Ramp-up"
   ]
  },
  {
   "cell_type": "markdown",
   "id": "1b34c670-a6dd-482d-9b04-5babee7be17a",
   "metadata": {},
   "source": [
    "Antes de comenzar, cambia el nombre del archivo notebook poniéndole delante tu nombre y primer apellido:\n",
    "\n",
    "* ``<nombre_apellido>_examen_online.ipynb``"
   ]
  },
  {
   "cell_type": "code",
   "execution_count": 396,
   "id": "c8d9a657-272c-425a-9ac4-ea59f479673c",
   "metadata": {},
   "outputs": [],
   "source": [
    "# Escribe tu nombre en la variable:\n",
    "nombre_y_apellidos = \"Concha López\" "
   ]
  },
  {
   "cell_type": "code",
   "execution_count": 397,
   "id": "2e9f9af5-076c-44ec-9a80-95c0e99cdc58",
   "metadata": {},
   "outputs": [],
   "source": [
    "\"\"\"\n",
    "Criterios de corrección:\n",
    "\n",
    "ejecución (ausencia de errores y obtención de resultados)\n",
    "estructura del código\n",
    "uso correcto de variables\n",
    "manejo de tipo de variables\n",
    "asignaciones\n",
    "operaciones booleanas\n",
    "manejo lógico de flujos de control y bucles\n",
    "uso de colecciones\n",
    "uso de funciones\n",
    "\"\"\";\n",
    "\n",
    "# Ejemplo de como queremos ver el código para más de un intento:\n",
    "\n",
    "# intento 1\n",
    "#your code\n",
    "\n",
    "# intento 2\n",
    "#your code"
   ]
  },
  {
   "cell_type": "code",
   "execution_count": 398,
   "id": "bb16d0e3-3bb9-4f2b-944e-8fc35e628701",
   "metadata": {},
   "outputs": [],
   "source": [
    "# crea todas las celdas que necesites"
   ]
  },
  {
   "cell_type": "markdown",
   "id": "9e02b8f5-6f66-4e73-acfa-7f8c3977de2a",
   "metadata": {},
   "source": [
    "#### Notas y pruebas de apoyo para contestar las preguntas\n",
    "\n",
    "\n",
    "Cualquier código aunque no esté correcto nos dirá más de ti que no escribir nada. "
   ]
  },
  {
   "cell_type": "markdown",
   "id": "57d6b062-27f8-4377-b583-d662777b0bd7",
   "metadata": {},
   "source": [
    "__Debes subir este notebook a tu REPO PERSONAL__\n",
    "\n",
    "__Hora: hasta las 13:30 del 06/11/2024__"
   ]
  },
  {
   "cell_type": "markdown",
   "id": "062d81e8",
   "metadata": {},
   "source": [
    "#### Ejercicio 1\n",
    "\n",
    "Disponemos de una lista con información sobre varios empleados:\n",
    "\n",
    "    empleados = \n",
    "    [[12345, \"Juan Rodríguez\", 53, [\"Director financiero\"], 2],[56789, \"Laura Pérez\", 41, [\"CEO\", \"Director\", \"Gerente\"], 2],[88354, \"Pedro Álvarez\", 26, [\"Asistente\",\"Gestor comercial\"], 3]]\n",
    "\n",
    "Respecto de cada empleado, la lista contiene cinco elementos: en el primero almacenamos su tfno, en el segundo su nombre, en el tercero su edad, en el cuarto los puestos que ha desempeñado en la empresa (en forma de lista) y en el quinto su código postal.\n",
    "\n",
    "1. Siguiendo la misma estructura, incluye un nuevo empleado en la última posición de la lista empleados.\n",
    "\n",
    "2. Mostrar por pantalla, sin uso de funciones (salvo print) ni bucles: \n",
    "\n",
    "    - El nombre y la edad del tercer empleado de la lista empleados.\n",
    "    - Los puestos desempeñados por Pedro Álvarez, ordenados de atras a adelante (es decir, de Gestor comercial a Asistente)\n",
    "    - Si el nuevo empleado que has añadido tiene más o igual a 60 años, muestra por pantalla los puestos que el nuevo empleado haya desempeñado en la empresa. En caso contrario, muestra los puestos desempeñados por Laura Pérez y Juan Rodriguez."
   ]
  },
  {
   "cell_type": "code",
   "execution_count": 399,
   "id": "ae316b4b",
   "metadata": {},
   "outputs": [
    {
     "name": "stdout",
     "output_type": "stream",
     "text": [
      "[[12345, 'Juan Rodríguez', 53, ['Director financiero'], 2], [56789, 'Laura Pérez', 41, ['CEO', 'Director', 'Gerente'], 2], [88354, 'Pedro Álvarez', 26, ['Asistente', 'Gestor comercial'], 3], [\"98765, 'Pepe López', 50, [Asesor Fiscal], 9\"]]\n"
     ]
    }
   ],
   "source": [
    "empleados = [[12345, \"Juan Rodríguez\", 53, [\"Director financiero\"], 2],[56789, \"Laura Pérez\", 41, [\"CEO\", \"Director\", \"Gerente\"], 2],[88354, \"Pedro Álvarez\", 26, [\"Asistente\",\"Gestor comercial\"], 3]]\n",
    "\n",
    "empleados.append([\"98765, 'Pepe López', 50, [Asesor Fiscal], 9\"])\n",
    "print(empleados)\n"
   ]
  },
  {
   "cell_type": "code",
   "execution_count": 400,
   "id": "7f294fe1",
   "metadata": {},
   "outputs": [],
   "source": [
    "\n",
    "tercer_empleado = empleados[1]\n",
    "edad = tercer_empleado[2]"
   ]
  },
  {
   "cell_type": "code",
   "execution_count": 401,
   "id": "4fcf522d",
   "metadata": {},
   "outputs": [
    {
     "name": "stdout",
     "output_type": "stream",
     "text": [
      "['Gestor comercial', 'Asistente']\n"
     ]
    }
   ],
   "source": [
    "empleado_3 = empleados[2][3][::-1]\n",
    "print(empleado_3)"
   ]
  },
  {
   "cell_type": "code",
   "execution_count": 402,
   "id": "e3c95c01",
   "metadata": {},
   "outputs": [
    {
     "ename": "IndexError",
     "evalue": "list index out of range",
     "output_type": "error",
     "traceback": [
      "\u001b[1;31m---------------------------------------------------------------------------\u001b[0m",
      "\u001b[1;31mIndexError\u001b[0m                                Traceback (most recent call last)",
      "Cell \u001b[1;32mIn[402], line 4\u001b[0m\n\u001b[0;32m      1\u001b[0m empleados \u001b[38;5;241m=\u001b[39m [[\u001b[38;5;241m12345\u001b[39m, \u001b[38;5;124m'\u001b[39m\u001b[38;5;124mJuan Rodríguez\u001b[39m\u001b[38;5;124m'\u001b[39m, \u001b[38;5;241m53\u001b[39m, [\u001b[38;5;124m'\u001b[39m\u001b[38;5;124mDirector financiero\u001b[39m\u001b[38;5;124m'\u001b[39m], \u001b[38;5;241m2\u001b[39m], [\u001b[38;5;241m56789\u001b[39m, \u001b[38;5;124m'\u001b[39m\u001b[38;5;124mLaura Pérez\u001b[39m\u001b[38;5;124m'\u001b[39m, \u001b[38;5;241m41\u001b[39m, [\u001b[38;5;124m'\u001b[39m\u001b[38;5;124mCEO\u001b[39m\u001b[38;5;124m'\u001b[39m, \u001b[38;5;124m'\u001b[39m\u001b[38;5;124mDirector\u001b[39m\u001b[38;5;124m'\u001b[39m, \u001b[38;5;124m'\u001b[39m\u001b[38;5;124mGerente\u001b[39m\u001b[38;5;124m'\u001b[39m], \u001b[38;5;241m2\u001b[39m], [\u001b[38;5;241m88354\u001b[39m, \u001b[38;5;124m'\u001b[39m\u001b[38;5;124mPedro Álvarez\u001b[39m\u001b[38;5;124m'\u001b[39m, \u001b[38;5;241m26\u001b[39m, [\u001b[38;5;124m'\u001b[39m\u001b[38;5;124mAsistente\u001b[39m\u001b[38;5;124m'\u001b[39m, \u001b[38;5;124m'\u001b[39m\u001b[38;5;124mGestor comercial\u001b[39m\u001b[38;5;124m'\u001b[39m], \u001b[38;5;241m3\u001b[39m], [\u001b[38;5;124m\"\u001b[39m\u001b[38;5;124m98765, \u001b[39m\u001b[38;5;124m'\u001b[39m\u001b[38;5;124mPepe López\u001b[39m\u001b[38;5;124m'\u001b[39m\u001b[38;5;124m, 50, [Asesor Fiscal], 9\u001b[39m\u001b[38;5;124m\"\u001b[39m]]\n\u001b[0;32m      3\u001b[0m ultimo_empleado \u001b[38;5;241m=\u001b[39m empleados[\u001b[38;5;241m-\u001b[39m\u001b[38;5;241m1\u001b[39m]\n\u001b[1;32m----> 4\u001b[0m edad_ultimo_empleado \u001b[38;5;241m=\u001b[39m \u001b[43multimo_empleado\u001b[49m\u001b[43m[\u001b[49m\u001b[38;5;241;43m2\u001b[39;49m\u001b[43m]\u001b[49m\n\u001b[0;32m      5\u001b[0m puestos_ultimo_empleado \u001b[38;5;241m=\u001b[39m ultimo_empleado[\u001b[38;5;241m3\u001b[39m]\n\u001b[0;32m      6\u001b[0m puestos_Juan \u001b[38;5;241m=\u001b[39m empleados[\u001b[38;5;241m0\u001b[39m][\u001b[38;5;241m3\u001b[39m]\n",
      "\u001b[1;31mIndexError\u001b[0m: list index out of range"
     ]
    }
   ],
   "source": [
    "empleados = [[12345, 'Juan Rodríguez', 53, ['Director financiero'], 2], [56789, 'Laura Pérez', 41, ['CEO', 'Director', 'Gerente'], 2], [88354, 'Pedro Álvarez', 26, ['Asistente', 'Gestor comercial'], 3], [\"98765, 'Pepe López', 50, [Asesor Fiscal], 9\"]]\n",
    "\n",
    "ultimo_empleado = empleados[-1]\n",
    "edad_ultimo_empleado = ultimo_empleado[2]\n",
    "puestos_ultimo_empleado = ultimo_empleado[3]\n",
    "puestos_Juan = empleados[0][3]\n",
    "puestos_Laura = empleados[1][3]\n",
    "\n",
    "if edad_ultimo_empleado >= 60:\n",
    "    print(f\"Los puestos son:\", {puestos_ultimo_empleado})\n",
    "else:\n",
    "    print(f\"Los puestos de Juan son:\",{puestos_Juan}, \"y los de Laura son:\", {puestos_Laura})"
   ]
  },
  {
   "cell_type": "markdown",
   "id": "4da89624-0da3-4f91-aa5c-a084c5ee1b17",
   "metadata": {},
   "source": [
    "#### Ejercicio 2. \n",
    "\n",
    "Escribe un programa que te diga si una letra es una consonante o una vocal. Crea tu propia **FUNCIÓN**\n"
   ]
  },
  {
   "cell_type": "code",
   "execution_count": 404,
   "id": "10ee89b9",
   "metadata": {},
   "outputs": [
    {
     "name": "stdout",
     "output_type": "stream",
     "text": [
      "La letra i es una vocal\n"
     ]
    }
   ],
   "source": [
    "vocales = ['a', 'e', 'i', 'o', 'u']\n",
    "letra = input(\"Ingrese una letra:\")\n",
    "    \n",
    "if letra in vocales:\n",
    "    print(f\"La letra {letra} es una vocal\")\n",
    "else:\n",
    "    print(f\"La letra {letra} es una consonante\")"
   ]
  },
  {
   "cell_type": "markdown",
   "id": "52065a6c-3d4c-44c0-a10b-958506c481b3",
   "metadata": {},
   "source": [
    "#### Ejercicio 3. \n",
    "\n",
    "Escribe un programa que calcule la edad humana de un perro.\n",
    "Tienes que pedirle al usuario la edad del perro en años.\n",
    "Si el usuario introduce un número negativo, imprime que la cifra facilitada no tiene sentido. Si el perro tiene un año, son 14 años humanos. Si tiene 2 años, son 22 años humanos.\n",
    "A partir de los 2 años, el cálculo es el siguiente: a la edad del perro se le restan 2 años, el resultado se multiplica por 5 y, finalmente, se le suma 22.\n",
    "Usa una función sin argumentos de entrada ni de salida (muestra toda la información con print())"
   ]
  },
  {
   "cell_type": "code",
   "execution_count": 412,
   "id": "9c59c801-1fe1-4a6d-a000-f85ca738ed00",
   "metadata": {},
   "outputs": [
    {
     "ename": "IndentationError",
     "evalue": "expected an indented block after 'if' statement on line 4 (252759989.py, line 5)",
     "output_type": "error",
     "traceback": [
      "\u001b[1;36m  Cell \u001b[1;32mIn[412], line 5\u001b[1;36m\u001b[0m\n\u001b[1;33m    print(\"Eso no tiene sentido o tu perro está muerto\")\u001b[0m\n\u001b[1;37m    ^\u001b[0m\n\u001b[1;31mIndentationError\u001b[0m\u001b[1;31m:\u001b[0m expected an indented block after 'if' statement on line 4\n"
     ]
    }
   ],
   "source": [
    "def calcular_edad_perro():\n",
    "    edad_perro = int(input(\"Ingrese la edad de su mascota en años:\"))\n",
    "\n",
    "    if num in edad_perro <= 0:\n",
    "    print(\"Eso no tiene sentido o tu perro está muerto\")\n",
    "\n",
    "    elif num in edad_perro > 0 or <= 1:\n",
    "    print (\"Tu perro tiene 14 años humanos\")\n",
    "\n",
    "    elif num in edad_perro > 1 and < 2:\n",
    "    print(\"Tu perro tiene 22 años humanos\")\n",
    "\n",
    "    else:\n",
    "        if num in edad_perro > 2:\n",
    "        edad = (edad_perro - 2) * 5 + 22\n",
    "    return edad_perro\n",
    "\n",
    "print(calcular_edad_perro)"
   ]
  },
  {
   "cell_type": "markdown",
   "id": "2991309f-4208-431a-900c-d9bc734bb936",
   "metadata": {},
   "source": [
    "#### Ejercicio 4. \n",
    "\n",
    "Escribe un programa que te diga si una frase es un pangrama. Un pangrama es una frase que contiene todas las letras del alfabeto.\n",
    "Puedes tener espacios en blanco, pero NO  tendrás signos de puntuación, a excepción de las tildes.\n",
    "\n",
    "Ejemplo de pangrama:\n",
    "\n",
    "Extraño pan de col y kiwi se quemó bajo fugaz vaho "
   ]
  },
  {
   "cell_type": "code",
   "execution_count": null,
   "id": "9a349c1e-15ab-4253-97f8-2a07a263791d",
   "metadata": {},
   "outputs": [],
   "source": [
    "frase ='Extraño pan de col y kiwi se quemó bajo fugaz vaho'\n",
    "abc = 'abcdefghijklmnñopqrstuvwxyz'\n",
    "def pangrama(frase):\n",
    "    frase = frase.lower()\n",
    "    abc = set('abc')\n",
    "    letras_pangrama = set(''.join(frase.split()))\n",
    "    return abc.issubset(letras.frase)\n"
   ]
  },
  {
   "cell_type": "markdown",
   "id": "3dbb76e0-79b2-45e8-9034-58ee9cbd82bb",
   "metadata": {},
   "source": [
    "#### Ejercicio 5. \n",
    "\n",
    "Escribe un programa que use diccionarios para traducir palabras entre varios idiomas.\n",
    "Deberás pedirle al usuario una palabra por teclado, ver si está en tu diccionario. En caso de que esté, deberás mostrar la traducción de esa palabra.\n",
    "\n",
    "Ejemplo de diccionario:\n",
    "\n",
    "```python\n",
    "{\"file\": \"Fichier\", \"new\": \"Nouveau\", \"open\": \"Ouvrir\", \"save\": \"Enregistrer\", \"save as\": \"Enregistrer sous\", \"print preview\": \"Apercu avant impressioner\", \"print\": \"Imprimer\", \"close\": \"Fermer\", \"exit\": \"Quitter\"}\n"
   ]
  },
  {
   "cell_type": "code",
   "execution_count": null,
   "id": "88236123-e8ac-45da-87d0-134a88a690c1",
   "metadata": {},
   "outputs": [
    {
     "name": "stdout",
     "output_type": "stream",
     "text": [
      "La palabra {'new'} en frances es: {'Nouveau'}\n"
     ]
    }
   ],
   "source": [
    "dic_ingles_frances = {\"file\": \"Fichier\", \"new\": \"Nouveau\", \"open\": \"Ouvrir\", \"save\": \"Enregistrer\", \"save as\": \"Enregistrer sous\", \"print preview\": \"Apercu avant impressioner\", \"print\": \"Imprimer\", \"close\": \"Fermer\", \"exit\": \"Quitter\"}\n",
    "\n",
    "palabra = input(\"Ingrese una palabra:\")\n",
    "    \n",
    "if palabra in dic_ingles_frances:\n",
    "    print(f\"La palabra\", {palabra}, \"en frances es:\", {dic_ingles_frances[palabra]})\n",
    "else:\n",
    "    print(f\"La palabra {palabra} no la encuentro\")"
   ]
  },
  {
   "cell_type": "markdown",
   "id": "61967ca4-7e06-44b3-ad7b-adbc0e71671a",
   "metadata": {},
   "source": [
    "#### Ejercicio 6. (Bonus).\n",
    "\n",
    "Usando `OOP` modela un theremin (es un instrumento musical que se toca modificando el campo electromagnético, por si tenías curiosidad).\n",
    "Tendrá de atributos la marca, el modelo, el peso, la potencia y la batería.\n",
    "\n",
    "Todos los instrumentos se crean con un peso predeterminado de 500, una potencia de 50 y una batería de 200.\n",
    "\n",
    "Cuando se recarga la batería vale 200.\n",
    "\n",
    "Cuando se toca, se muestra por pantalla que está sonando y la batería disminuye 10 (no siendo nunca negativo).\n",
    "Si no hay batería, no puede sonar. Crea un instrumento, tócalo mientras quede batería, cárgalo y no lo vuelvas a tocar.\n"
   ]
  },
  {
   "cell_type": "code",
   "execution_count": 427,
   "id": "8082c8cd-03a9-478e-aa72-4ec1306e1bb2",
   "metadata": {},
   "outputs": [
    {
     "name": "stdout",
     "output_type": "stream",
     "text": [
      "La batería está cargada\n"
     ]
    },
    {
     "ename": "AttributeError",
     "evalue": "'Theremin' object has no attribute 'bateria'",
     "output_type": "error",
     "traceback": [
      "\u001b[1;31m---------------------------------------------------------------------------\u001b[0m",
      "\u001b[1;31mAttributeError\u001b[0m                            Traceback (most recent call last)",
      "Cell \u001b[1;32mIn[427], line 18\u001b[0m\n\u001b[0;32m     16\u001b[0m Mi_Theremin \u001b[38;5;241m=\u001b[39m Theremin (\u001b[38;5;124m\"\u001b[39m\u001b[38;5;124mMi_Theremin\u001b[39m\u001b[38;5;124m\"\u001b[39m, \u001b[38;5;241m8500\u001b[39m)\n\u001b[0;32m     17\u001b[0m Mi_Theremin\u001b[38;5;241m.\u001b[39mcarga_bateria(\u001b[38;5;124m\"\u001b[39m\u001b[38;5;124mMi_Theremin\u001b[39m\u001b[38;5;124m\"\u001b[39m)\n\u001b[1;32m---> 18\u001b[0m \u001b[43mMi_Theremin\u001b[49m\u001b[38;5;241;43m.\u001b[39;49m\u001b[43mtocar_theremin\u001b[49m\u001b[43m(\u001b[49m\u001b[43m)\u001b[49m\n",
      "Cell \u001b[1;32mIn[427], line 10\u001b[0m, in \u001b[0;36mTheremin.tocar_theremin\u001b[1;34m(self)\u001b[0m\n\u001b[0;32m      9\u001b[0m \u001b[38;5;28;01mdef\u001b[39;00m \u001b[38;5;21mtocar_theremin\u001b[39m(\u001b[38;5;28mself\u001b[39m):\n\u001b[1;32m---> 10\u001b[0m     \u001b[38;5;28;01mif\u001b[39;00m \u001b[38;5;28;43mself\u001b[39;49m\u001b[38;5;241;43m.\u001b[39;49m\u001b[43mbateria\u001b[49m \u001b[38;5;241m>\u001b[39m \u001b[38;5;241m0\u001b[39m:\n\u001b[0;32m     11\u001b[0m         \u001b[38;5;28mprint\u001b[39m(\u001b[38;5;124mf\u001b[39m\u001b[38;5;124m\"\u001b[39m\u001b[38;5;124mEl theremin \u001b[39m\u001b[38;5;132;01m{\u001b[39;00m\u001b[38;5;28mself\u001b[39m\u001b[38;5;241m.\u001b[39mmarca\u001b[38;5;132;01m}\u001b[39;00m\u001b[38;5;124m está sonando\u001b[39m\u001b[38;5;124m\"\u001b[39m)\n\u001b[0;32m     12\u001b[0m         \u001b[38;5;28mself\u001b[39m\u001b[38;5;241m.\u001b[39mbateria \u001b[38;5;241m-\u001b[39m\u001b[38;5;241m=\u001b[39m \u001b[38;5;241m10\u001b[39m\n",
      "\u001b[1;31mAttributeError\u001b[0m: 'Theremin' object has no attribute 'bateria'"
     ]
    }
   ],
   "source": [
    "class Theremin():\n",
    "    def __init__ (self, marca_theremin, modelo_theremin, peso_theremin = 500, potencia_theremin = 50, bateria_theremin = 200):\n",
    "        self.marca = marca_theremin\n",
    "        self.modelo = modelo_theremin\n",
    "\n",
    "    def carga_bateria(self, bateria_theremin):\n",
    "        print(\"La batería está cargada\")\n",
    "\n",
    "    def tocar_theremin(self):\n",
    "        if self.bateria > 0:\n",
    "            print(f\"El theremin {self.marca} está sonando\")\n",
    "            self.bateria -= 10\n",
    "        else:\n",
    "            print(\"No hay batería suficiente\")\n",
    "\n",
    "Mi_Theremin = Theremin (\"Mi_Theremin\", 8500)\n",
    "Mi_Theremin.carga_bateria(\"Mi_Theremin\")\n",
    "Mi_Theremin.tocar_theremin()\n",
    "\n",
    "    "
   ]
  },
  {
   "cell_type": "markdown",
   "id": "30f773b5-a6da-4446-b36b-722b2ee57730",
   "metadata": {},
   "source": [
    "#### Ejercicio 7. Extra (NO PUNTÚA).\n",
    "Una empresa usa dos listas  para guardar la información de sus empleados. Una lista guarda el nombre del empleado y la otra guarda su salario. Escribe un programa que cree esas dos listas originalmente vacías y que a través de un menú pueda hacer lo siguiente:\n",
    "    \n",
    "Inserta 1 para añadir un nuevo empleado y su salario\n",
    "\n",
    "Inserta 2 para imprimir los nombres y salarios de todos los empleados\n",
    "\n",
    "Inserta 3 para mostrar el número de empleados\n",
    "\n",
    "Inserta 4 para imprimir los nombres de los empleados con sueldos superiores a 400000\n",
    "\n",
    "Inserta 5 para subir un 5% los sueldos por debajo de 10000\n",
    "\n",
    "Inserta 6 para mostrar el total de todos los salarios\n",
    "\n",
    "Inserta 7 para salir del programa"
   ]
  },
  {
   "cell_type": "code",
   "execution_count": null,
   "id": "67858e27-b7f5-4e05-bc50-3fca698ad22a",
   "metadata": {},
   "outputs": [],
   "source": []
  },
  {
   "cell_type": "markdown",
   "id": "e33a0e21-476e-4103-b889-a6b3e76b99f3",
   "metadata": {},
   "source": [
    "\n",
    "####  Ejercicio 8. EXTRA (NO PUNTÚA).\n",
    "\n",
    "Escribe un programa que __USE RECURSIVIDAD__ para decidir cuál es la película de Pixar favorita de un usuario.\n",
    "El programa preguntará al usuario cuál de 2 películas es su favorita, y con esa favorita se le volverá a preguntar entre esa y otra película cuál es su favorita...y así hasta que el usuario haya decidido de entre todas cuál es su favorita.\n",
    "\n",
    "Pista: si no quieres cambiar una lista, usa copy() y tendrás una copia que es otro objeto\n",
    "\n"
   ]
  },
  {
   "cell_type": "code",
   "execution_count": null,
   "id": "c9936fd4-6d29-4535-9f34-a6f289d18d8b",
   "metadata": {},
   "outputs": [],
   "source": []
  },
  {
   "cell_type": "code",
   "execution_count": null,
   "id": "10a7b881",
   "metadata": {},
   "outputs": [],
   "source": [
    "# FIN DEL EXAMEN"
   ]
  }
 ],
 "metadata": {
  "kernelspec": {
   "display_name": "Python 3",
   "language": "python",
   "name": "python3"
  },
  "language_info": {
   "codemirror_mode": {
    "name": "ipython",
    "version": 3
   },
   "file_extension": ".py",
   "mimetype": "text/x-python",
   "name": "python",
   "nbconvert_exporter": "python",
   "pygments_lexer": "ipython3",
   "version": "3.13.0"
  }
 },
 "nbformat": 4,
 "nbformat_minor": 5
}
