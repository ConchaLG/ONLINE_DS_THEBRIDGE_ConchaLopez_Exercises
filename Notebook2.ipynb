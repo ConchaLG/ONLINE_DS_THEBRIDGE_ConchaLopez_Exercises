{
 "cells": [
  {
   "cell_type": "markdown",
   "id": "89d8f000-319b-4e8d-8bf5-0372de8cd50f",
   "metadata": {},
   "source": [
    "<style>\n",
    "    .heatMap {\n",
    "        width: 70%;\n",
    "        text-align: left;\n",
    "    }\n",
    "    .heatMap th {\n",
    "        background: white;\n",
    "        word-wrap: break-word;\n",
    "        text-align: left;\n",
    "    }\n",
    "    .heatMap tr:nth-child(1) {background: white; }\n",
    "    .heatMap tr:nth-child(2) {background: blue; }\n",
    "    .heatMap tr:nth-child(3) {background: white; }\n",
    "</style>\n",
    "\n",
    "<div class=\"headMap\">\n",
    "\n",
    "| Ramp up | Data Analysis | Machine Learning | Data & Business\n",
    "| -- | -- | -- | -- |\n",
    "| Python | EDA | Supervised | Productivización |\n",
    "| Estadística | R | Non supervised | Storytelling |\n",
    "| SQL | Feat Eng. | Deep Learning | API |\n",
    "\n",
    "</div>\n",
    "\n",
    "<p style=\"test-align:center;\">$\\sqrt{3x-1}+(1+x)^2$</p>\n"
   ]
  }
 ],
 "metadata": {
  "kernelspec": {
   "display_name": "Python 3 (ipykernel)",
   "language": "python",
   "name": "python3"
  },
  "language_info": {
   "codemirror_mode": {
    "name": "ipython",
    "version": 3
   },
   "file_extension": ".py",
   "mimetype": "text/x-python",
   "name": "python",
   "nbconvert_exporter": "python",
   "pygments_lexer": "ipython3",
   "version": "3.13.0"
  }
 },
 "nbformat": 4,
 "nbformat_minor": 5
}
